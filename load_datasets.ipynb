{
 "cells": [
  {
   "cell_type": "code",
   "execution_count": 161,
   "metadata": {
    "ExecuteTime": {
     "end_time": "2020-01-10T15:38:38.509506Z",
     "start_time": "2020-01-10T15:38:38.494322Z"
    }
   },
   "outputs": [],
   "source": [
    "import numpy as np\n",
    "import pandas as pd\n",
    "import networkx as nx\n",
    "import seaborn as sns\n",
    "import matplotlib.pyplot as plt\n",
    "import urllib.request\n",
    "import os, pickle, sys, random\n",
    "import seaborn as sns\n",
    "from sklearn.manifold import TSNE\n",
    "from scipy.stats import norm\n",
    "sns.set(style=\"whitegrid\", palette=\"rainbow\")"
   ]
  },
  {
   "cell_type": "markdown",
   "metadata": {},
   "source": [
    "https://github.com/YosefLab/scVI\n",
    "\n",
    "https://nbviewer.jupyter.org/github/YosefLab/scVI/blob/master/tests/notebooks/data_loading.ipynb"
   ]
  },
  {
   "cell_type": "code",
   "execution_count": 2,
   "metadata": {
    "ExecuteTime": {
     "end_time": "2020-01-10T13:44:40.356789Z",
     "start_time": "2020-01-10T13:44:38.557177Z"
    }
   },
   "outputs": [],
   "source": [
    "from scvi.dataset import LoomDataset, CsvDataset, Dataset10X, DownloadableAnnDataset\n",
    "from scvi.dataset import BrainLargeDataset, CortexDataset, PbmcDataset, RetinaDataset, HematoDataset, CbmcDataset, BrainSmallDataset, SmfishDataset\n",
    "save_path = \"data/\""
   ]
  },
  {
   "cell_type": "markdown",
   "metadata": {},
   "source": [
    "# smFISH\n",
    "http://linnarssonlab.org/osmFISH/\n",
    "## Load Data"
   ]
  },
  {
   "cell_type": "code",
   "execution_count": 3,
   "metadata": {
    "ExecuteTime": {
     "end_time": "2020-01-10T13:44:40.503641Z",
     "start_time": "2020-01-10T13:44:40.389002Z"
    }
   },
   "outputs": [
    {
     "name": "stdout",
     "output_type": "stream",
     "text": [
      "[2020-01-10 21:44:40,390] INFO - scvi.dataset.dataset | File /Users/sherilynw/Desktop/4_1/计算生物学/singlecell_casuality/data/osmFISH_SScortex_mouse_all_cell.loom already downloaded\n",
      "[2020-01-10 21:44:40,392] INFO - scvi.dataset.smfish | Loading smFISH dataset\n",
      "[2020-01-10 21:44:40,482] WARNING - scvi.dataset.dataset | This dataset has some empty cells, this might fail scVI inference.Data should be filtered with `my_dataset.filter_cells_by_count()\n",
      "[2020-01-10 21:44:40,489] INFO - scvi.dataset.dataset | Computing the library size for the new data\n",
      "[2020-01-10 21:44:40,491] INFO - scvi.dataset.dataset | Downsampled from 6471 to 4530 cells\n",
      "[2020-01-10 21:44:40,495] INFO - scvi.dataset.dataset | Remapping batch_indices to [0,N]\n",
      "[2020-01-10 21:44:40,498] INFO - scvi.dataset.dataset | Remapping labels to [0,N]\n"
     ]
    }
   ],
   "source": [
    "smfish_dataset = SmfishDataset(save_path=save_path)"
   ]
  },
  {
   "cell_type": "code",
   "execution_count": null,
   "metadata": {
    "ExecuteTime": {
     "end_time": "2019-12-22T10:34:18.105621Z",
     "start_time": "2019-12-22T10:34:18.095050Z"
    }
   },
   "outputs": [],
   "source": [
    "smfish_dataset"
   ]
  },
  {
   "cell_type": "code",
   "execution_count": 91,
   "metadata": {
    "ExecuteTime": {
     "end_time": "2020-01-10T15:02:55.466145Z",
     "start_time": "2020-01-10T15:02:55.456238Z"
    }
   },
   "outputs": [
    {
     "data": {
      "text/plain": [
       "{0, 1, 2, 3, 4, 5}"
      ]
     },
     "execution_count": 91,
     "metadata": {},
     "output_type": "execute_result"
    }
   ],
   "source": [
    "set(smfish_dataset.labels.flatten())"
   ]
  },
  {
   "cell_type": "raw",
   "metadata": {
    "ExecuteTime": {
     "end_time": "2019-12-22T13:18:18.698152Z",
     "start_time": "2019-12-22T13:18:18.686101Z"
    }
   },
   "source": [
    "X_tsne2 = TSNE(n_components=2).fit_transform(cortex_dataset.X)"
   ]
  },
  {
   "cell_type": "raw",
   "metadata": {
    "ExecuteTime": {
     "end_time": "2019-12-22T18:06:23.546011Z",
     "start_time": "2019-12-22T18:06:22.102238Z"
    }
   },
   "source": [
    "colormap = dict(zip(range(6), sns.color_palette(\"Paired\", 9)))\n",
    "tmp_df = pd.DataFrame(data={\"X\":smfish_dataset.x_coord.flatten(), \"Y\":smfish_dataset.y_coord.flatten(), \"Type\":[colormap[x] for x in smfish_dataset.labels.flatten()]})\n",
    "sns.scatterplot(x=\"X\", y=\"Y\", hue=\"Type\", data=tmp_df, sizes=(10, 200))\n",
    "plt.title(\"osmFISH (4530 cells, 33 genes, 6 types)\")\n",
    "plt.legend(list(range(6)))\n",
    "plt.legend().remove()\n",
    "plt.axis(\"off\")\n",
    "plt.savefig(\"figure/scatter/osmFISH.pdf\", bbox_inches='tight')"
   ]
  },
  {
   "cell_type": "code",
   "execution_count": 166,
   "metadata": {
    "ExecuteTime": {
     "end_time": "2020-01-10T15:39:31.805977Z",
     "start_time": "2020-01-10T15:39:30.227987Z"
    }
   },
   "outputs": [
    {
     "data": {
      "image/png": "[encoded data removed]",
      "text/plain": [
       "<Figure size 432x288 with 1 Axes>"
      ]
     },
     "metadata": {},
     "output_type": "display_data"
    }
   ],
   "source": [
    "sns.set(style=\"white\", palette=\"rainbow\")\n",
    "sns.distplot(smfish_dataset.X.flatten(), kde=False, label=\"osmFISH\", bins=np.logspace(0,np.log(10),10))\n",
    "plt.title(\"osmFISH\", fontsize=20)\n",
    "plt.xlabel(\"Gene Expression\", fontsize=20)\n",
    "plt.ylabel(\"\")\n",
    "plt.xscale(\"log\")\n",
    "plt.xlim(0.9, 500)\n",
    "plt.savefig(\"figure/dist/osmFISH.pdf\", bbox_inches='tight')"
   ]
  },
  {
   "cell_type": "code",
   "execution_count": null,
   "metadata": {
    "ExecuteTime": {
     "end_time": "2019-12-23T00:08:11.756056Z",
     "start_time": "2019-12-23T00:08:11.678619Z"
    }
   },
   "outputs": [],
   "source": [
    "sorted(smfish_dataset.X.flatten())[:10]"
   ]
  },
  {
   "cell_type": "code",
   "execution_count": null,
   "metadata": {
    "ExecuteTime": {
     "end_time": "2019-12-23T00:09:45.623744Z",
     "start_time": "2019-12-23T00:09:45.604581Z"
    }
   },
   "outputs": [],
   "source": [
    "np.mean(smfish_dataset.X.flatten()), np.std(smfish_dataset.X.flatten())"
   ]
  },
  {
   "cell_type": "code",
   "execution_count": null,
   "metadata": {
    "ExecuteTime": {
     "end_time": "2019-12-22T10:07:41.753606Z",
     "start_time": "2019-12-22T10:07:41.743118Z"
    }
   },
   "outputs": [],
   "source": [
    "?sns.distplot"
   ]
  },
  {
   "cell_type": "markdown",
   "metadata": {},
   "source": [
    "## Normalize"
   ]
  },
  {
   "cell_type": "code",
   "execution_count": null,
   "metadata": {
    "ExecuteTime": {
     "end_time": "2019-12-23T01:31:45.908263Z",
     "start_time": "2019-12-23T01:31:45.877607Z"
    }
   },
   "outputs": [],
   "source": [
    "norm_X = (smfish_dataset.X - np.mean(smfish_dataset.X, axis=0))/np.std(smfish_dataset.X, axis=0)"
   ]
  },
  {
   "cell_type": "code",
   "execution_count": null,
   "metadata": {
    "ExecuteTime": {
     "end_time": "2019-12-23T01:31:46.666702Z",
     "start_time": "2019-12-23T01:31:46.653492Z"
    }
   },
   "outputs": [],
   "source": [
    "np.std(norm_X, axis=0)"
   ]
  },
  {
   "cell_type": "code",
   "execution_count": null,
   "metadata": {
    "ExecuteTime": {
     "end_time": "2019-12-23T01:31:50.957785Z",
     "start_time": "2019-12-23T01:31:50.945809Z"
    }
   },
   "outputs": [],
   "source": [
    "np.cov(norm_X[:, 0], norm_X[:, 1])"
   ]
  },
  {
   "cell_type": "code",
   "execution_count": null,
   "metadata": {
    "ExecuteTime": {
     "end_time": "2019-12-23T01:32:36.618272Z",
     "start_time": "2019-12-23T01:32:36.603170Z"
    }
   },
   "outputs": [],
   "source": [
    "np.cov(norm_X.T)/np.cov(smfish_dataset.X.T)"
   ]
  },
  {
   "cell_type": "code",
   "execution_count": null,
   "metadata": {
    "ExecuteTime": {
     "end_time": "2019-12-23T01:31:51.987395Z",
     "start_time": "2019-12-23T01:31:51.972377Z"
    }
   },
   "outputs": [],
   "source": [
    "np.cov(norm_X.T)"
   ]
  },
  {
   "cell_type": "code",
   "execution_count": null,
   "metadata": {
    "ExecuteTime": {
     "end_time": "2019-12-23T01:32:30.466358Z",
     "start_time": "2019-12-23T01:32:30.454911Z"
    }
   },
   "outputs": [],
   "source": [
    "np.cov(smfish_dataset.X.T)"
   ]
  },
  {
   "cell_type": "code",
   "execution_count": null,
   "metadata": {},
   "outputs": [],
   "source": []
  },
  {
   "cell_type": "markdown",
   "metadata": {},
   "source": [
    "# Cortex"
   ]
  },
  {
   "cell_type": "code",
   "execution_count": 99,
   "metadata": {
    "ExecuteTime": {
     "end_time": "2020-01-10T15:07:28.380992Z",
     "start_time": "2020-01-10T15:07:18.194449Z"
    }
   },
   "outputs": [
    {
     "name": "stdout",
     "output_type": "stream",
     "text": [
      "[2020-01-10 23:07:18,196] INFO - scvi.dataset.dataset | File /Users/sherilynw/Desktop/4_1/计算生物学/singlecell_casuality/data/expression.bin already downloaded\n",
      "[2020-01-10 23:07:18,198] INFO - scvi.dataset.cortex | Loading Cortex data\n",
      "[2020-01-10 23:07:28,126] INFO - scvi.dataset.cortex | Finished preprocessing Cortex data\n",
      "[2020-01-10 23:07:28,144] INFO - scvi.dataset.dataset | Remapping batch_indices to [0,N]\n",
      "[2020-01-10 23:07:28,146] INFO - scvi.dataset.dataset | Remapping labels to [0,N]\n"
     ]
    }
   ],
   "source": [
    "cortex_dataset = CortexDataset(save_path=save_path, total_genes=558) "
   ]
  },
  {
   "cell_type": "code",
   "execution_count": null,
   "metadata": {
    "ExecuteTime": {
     "end_time": "2019-12-22T17:40:35.998497Z",
     "start_time": "2019-12-22T17:40:35.990602Z"
    }
   },
   "outputs": [],
   "source": [
    "cortex_dataset"
   ]
  },
  {
   "cell_type": "code",
   "execution_count": null,
   "metadata": {
    "ExecuteTime": {
     "end_time": "2019-12-22T17:43:28.356232Z",
     "start_time": "2019-12-22T17:43:28.339731Z"
    }
   },
   "outputs": [],
   "source": [
    "set(list(cortex_dataset.labels.flatten().astype(str)))"
   ]
  },
  {
   "cell_type": "code",
   "execution_count": null,
   "metadata": {
    "ExecuteTime": {
     "end_time": "2019-12-22T18:04:44.577142Z",
     "start_time": "2019-12-22T18:03:26.742017Z"
    }
   },
   "outputs": [],
   "source": [
    "X_tsne2 = TSNE(n_components=2).fit_transform(cortex_dataset.X)"
   ]
  },
  {
   "cell_type": "code",
   "execution_count": null,
   "metadata": {
    "ExecuteTime": {
     "end_time": "2019-12-22T18:06:14.215420Z",
     "start_time": "2019-12-22T18:06:12.982194Z"
    }
   },
   "outputs": [],
   "source": [
    "colormap = dict(zip(range(7), sns.color_palette(\"Paired\", 7)))\n",
    "tmp_df = pd.DataFrame(data={\"X\":list(X_tsne2[:, 0]), \"Y\":list(X_tsne2[:, 1]), \"Type\":[colormap[x] for x in cortex_dataset.labels.flatten()]})\n",
    "sns.scatterplot(x=\"X\", y=\"Y\", hue=\"Type\", data=tmp_df, sizes=(10, 200))\n",
    "plt.title(\"Cortex (3005 cells, 55g genes, 7 types)\")\n",
    "plt.legend(list(range(7)))\n",
    "plt.xlabel(\"tSNE 1\")\n",
    "plt.ylabel(\"tSNE 2\")\n",
    "plt.legend().remove()\n",
    "plt.axis(\"off\")\n",
    "plt.savefig(\"figure/scatter/Cortex.pdf\", bbox_inches='tight')"
   ]
  },
  {
   "cell_type": "code",
   "execution_count": 165,
   "metadata": {
    "ExecuteTime": {
     "end_time": "2020-01-10T15:39:11.431442Z",
     "start_time": "2020-01-10T15:39:10.144441Z"
    }
   },
   "outputs": [
    {
     "data": {
      "image/png": "[encoded data removed]",
      "text/plain": [
       "<Figure size 432x288 with 1 Axes>"
      ]
     },
     "metadata": {},
     "output_type": "display_data"
    }
   ],
   "source": [
    "sns.distplot(cortex_dataset.X.flatten(), kde=False, label=\"Cortex\", bins=np.logspace(0,np.log(10),10))\n",
    "plt.title(\"Cortex\", fontsize=20)\n",
    "plt.xlabel(\"Gene Expression\", fontsize=20)\n",
    "plt.ylabel(\"Count\", fontsize=20)\n",
    "plt.xscale(\"log\")\n",
    "plt.xlim(0.9, 500)\n",
    "plt.savefig(\"figure/dist/cortex.pdf\", bbox_inches='tight')"
   ]
  },
  {
   "cell_type": "markdown",
   "metadata": {},
   "source": [
    "# PBMC"
   ]
  },
  {
   "cell_type": "code",
   "execution_count": 109,
   "metadata": {
    "ExecuteTime": {
     "end_time": "2020-01-10T15:14:41.388121Z",
     "start_time": "2020-01-10T15:14:06.198029Z"
    }
   },
   "outputs": [
    {
     "name": "stdout",
     "output_type": "stream",
     "text": [
      "[2020-01-10 23:14:06,200] INFO - scvi.dataset.dataset | File /Users/sherilynw/Desktop/4_1/计算生物学/singlecell_casuality/data/gene_info_pbmc.csv already downloaded\n",
      "[2020-01-10 23:14:06,202] INFO - scvi.dataset.dataset | File /Users/sherilynw/Desktop/4_1/计算生物学/singlecell_casuality/data/pbmc_metadata.pickle already downloaded\n",
      "[2020-01-10 23:14:06,344] INFO - scvi.dataset.dataset | File /Users/sherilynw/Desktop/4_1/计算生物学/singlecell_casuality/data/10X/pbmc8k/filtered_gene_bc_matrices.tar.gz already downloaded\n",
      "[2020-01-10 23:14:06,345] INFO - scvi.dataset.dataset10X | Preprocessing dataset\n",
      "[2020-01-10 23:14:28,799] INFO - scvi.dataset.dataset10X | Finished preprocessing dataset\n",
      "[2020-01-10 23:14:28,945] INFO - scvi.dataset.dataset | Remapping batch_indices to [0,N]\n",
      "[2020-01-10 23:14:28,947] INFO - scvi.dataset.dataset | Remapping labels to [0,N]\n",
      "[2020-01-10 23:14:28,989] INFO - scvi.dataset.dataset | Computing the library size for the new data\n",
      "[2020-01-10 23:14:29,096] INFO - scvi.dataset.dataset | Downsampled from 8381 to 8381 cells\n",
      "[2020-01-10 23:14:29,113] INFO - scvi.dataset.dataset | File /Users/sherilynw/Desktop/4_1/计算生物学/singlecell_casuality/data/10X/pbmc4k/filtered_gene_bc_matrices.tar.gz already downloaded\n",
      "[2020-01-10 23:14:29,114] INFO - scvi.dataset.dataset10X | Preprocessing dataset\n",
      "[2020-01-10 23:14:39,560] INFO - scvi.dataset.dataset10X | Finished preprocessing dataset\n",
      "[2020-01-10 23:14:39,654] INFO - scvi.dataset.dataset | Remapping batch_indices to [0,N]\n",
      "[2020-01-10 23:14:39,655] INFO - scvi.dataset.dataset | Remapping labels to [0,N]\n",
      "[2020-01-10 23:14:39,679] INFO - scvi.dataset.dataset | Computing the library size for the new data\n",
      "[2020-01-10 23:14:39,737] INFO - scvi.dataset.dataset | Downsampled from 4340 to 4340 cells\n",
      "[2020-01-10 23:14:39,821] INFO - scvi.dataset.dataset | Keeping 33694 genes\n",
      "[2020-01-10 23:14:40,014] INFO - scvi.dataset.dataset | Computing the library size for the new data\n",
      "[2020-01-10 23:14:40,088] INFO - scvi.dataset.dataset | Remapping batch_indices to [0,N]\n",
      "[2020-01-10 23:14:40,091] INFO - scvi.dataset.dataset | Remapping labels to [0,N]\n",
      "[2020-01-10 23:14:40,196] INFO - scvi.dataset.dataset | Computing the library size for the new data\n",
      "[2020-01-10 23:14:40,234] INFO - scvi.dataset.dataset | Remapping batch_indices to [0,N]\n",
      "[2020-01-10 23:14:40,236] INFO - scvi.dataset.dataset | Remapping labels to [0,N]\n",
      "[2020-01-10 23:14:40,531] INFO - scvi.dataset.dataset | Remapping batch_indices to [0,N]\n",
      "[2020-01-10 23:14:40,533] INFO - scvi.dataset.dataset | Remapping labels to [0,N]\n",
      "[2020-01-10 23:14:40,819] INFO - scvi.dataset.dataset | Computing the library size for the new data\n",
      "[2020-01-10 23:14:40,922] INFO - scvi.dataset.dataset | Downsampled from 12721 to 11990 cells\n",
      "[2020-01-10 23:14:41,031] INFO - scvi.dataset.dataset | Downsampling from 33694 to 3346 genes\n",
      "[2020-01-10 23:14:41,235] INFO - scvi.dataset.dataset | Computing the library size for the new data\n",
      "[2020-01-10 23:14:41,283] INFO - scvi.dataset.dataset | Filtering non-expressing cells.\n",
      "[2020-01-10 23:14:41,312] INFO - scvi.dataset.dataset | Computing the library size for the new data\n",
      "[2020-01-10 23:14:41,340] INFO - scvi.dataset.dataset | Downsampled from 11990 to 11990 cells\n"
     ]
    }
   ],
   "source": [
    "pbmc_dataset = PbmcDataset(save_path=save_path, save_path_10X=os.path.join(save_path, \"10X\"))"
   ]
  },
  {
   "cell_type": "code",
   "execution_count": null,
   "metadata": {
    "ExecuteTime": {
     "end_time": "2019-12-22T23:44:40.683103Z",
     "start_time": "2019-12-22T23:44:40.674736Z"
    }
   },
   "outputs": [],
   "source": [
    "pbmc_dataset"
   ]
  },
  {
   "cell_type": "code",
   "execution_count": 115,
   "metadata": {
    "ExecuteTime": {
     "end_time": "2020-01-10T15:16:05.721174Z",
     "start_time": "2020-01-10T15:16:05.700717Z"
    }
   },
   "outputs": [
    {
     "data": {
      "text/plain": [
       "<11990x3346 sparse matrix of type '<class 'numpy.int64'>'\n",
       "\twith 5489147 stored elements in Compressed Sparse Row format>"
      ]
     },
     "execution_count": 115,
     "metadata": {},
     "output_type": "execute_result"
    }
   ],
   "source": [
    "pbmc_dataset.X"
   ]
  },
  {
   "cell_type": "raw",
   "metadata": {
    "ExecuteTime": {
     "end_time": "2019-12-22T23:58:31.855906Z",
     "start_time": "2019-12-22T23:44:40.767917Z"
    }
   },
   "source": [
    "X_tsne_pbmc = TSNE(n_components=2).fit_transform(pbmc_dataset.X.toarray())"
   ]
  },
  {
   "cell_type": "code",
   "execution_count": 114,
   "metadata": {
    "ExecuteTime": {
     "end_time": "2020-01-10T15:15:54.842624Z",
     "start_time": "2020-01-10T15:15:54.818252Z"
    }
   },
   "outputs": [
    {
     "data": {
      "text/plain": [
       "{'0', '1', '2', '3', '4', '5', '6', '7', '8'}"
      ]
     },
     "execution_count": 114,
     "metadata": {},
     "output_type": "execute_result"
    }
   ],
   "source": [
    "set(list(pbmc_dataset.labels.flatten().astype(str)))"
   ]
  },
  {
   "cell_type": "raw",
   "metadata": {
    "ExecuteTime": {
     "end_time": "2019-12-22T23:58:35.093764Z",
     "start_time": "2019-12-22T23:58:31.945274Z"
    }
   },
   "source": [
    "colormap = dict(zip(range(9), sns.color_palette(\"Paired\", 9)))\n",
    "tmp_df = pd.DataFrame(data={\"X\":list(X_tsne_pbmc[:, 0]), \"Y\":list(X_tsne_pbmc[:, 1]), \"Type\":[colormap[x] for x in pbmc_dataset.labels.flatten()]})\n",
    "sns.scatterplot(x=\"X\", y=\"Y\", hue=\"Type\", data=tmp_df, sizes=(10, 200))\n",
    "plt.title(\"PBMC (11990 cells, 3345 genes, 9 types)\")\n",
    "plt.legend(list(range(9)))\n",
    "plt.xlabel(\"tSNE 1\")\n",
    "plt.ylabel(\"tSNE 2\")\n",
    "plt.legend().remove()\n",
    "plt.axis(\"off\")\n",
    "plt.savefig(\"figure/scatter/PBMC.pdf\", bbox_inches='tight')"
   ]
  },
  {
   "cell_type": "code",
   "execution_count": 167,
   "metadata": {
    "ExecuteTime": {
     "end_time": "2020-01-10T15:39:48.391591Z",
     "start_time": "2020-01-10T15:39:46.198701Z"
    }
   },
   "outputs": [
    {
     "data": {
      "image/png": "[encoded data removed]",
      "text/plain": [
       "<Figure size 432x288 with 1 Axes>"
      ]
     },
     "metadata": {},
     "output_type": "display_data"
    }
   ],
   "source": [
    "sns.distplot(pbmc_dataset.X.todense().flatten(),kde=False, label=\"PBMC\", bins=np.logspace(0,np.log(10),10))\n",
    "plt.title(\"PBMC\", fontsize=20)\n",
    "plt.xlabel(\"Gene Expression\", fontsize=20)\n",
    "plt.ylabel(\"\")\n",
    "plt.xscale(\"log\")\n",
    "plt.xlim(0.9, 500)\n",
    "plt.savefig(\"figure/dist/pbmc.pdf\", bbox_inches='tight')"
   ]
  },
  {
   "cell_type": "markdown",
   "metadata": {},
   "source": [
    "# HEMATO"
   ]
  },
  {
   "cell_type": "code",
   "execution_count": 134,
   "metadata": {
    "ExecuteTime": {
     "end_time": "2020-01-10T15:23:53.048893Z",
     "start_time": "2020-01-10T15:22:19.777568Z"
    }
   },
   "outputs": [
    {
     "name": "stdout",
     "output_type": "stream",
     "text": [
      "[2020-01-10 23:22:19,780] INFO - scvi.dataset.dataset | File /Users/sherilynw/Desktop/4_1/计算生物学/singlecell_casuality/data/HEMATO/bBM.raw_umifm_counts.csv.gz already downloaded\n",
      "[2020-01-10 23:22:19,786] INFO - scvi.dataset.dataset | File /Users/sherilynw/Desktop/4_1/计算生物学/singlecell_casuality/data/HEMATO/data.zip already downloaded\n",
      "[2020-01-10 23:22:19,788] INFO - scvi.dataset.hemato | Preprocessing Hemato data\n",
      "[2020-01-10 23:23:52,190] INFO - scvi.dataset.hemato | Finished preprocessing Hemato data\n",
      "[2020-01-10 23:23:52,697] INFO - scvi.dataset.dataset | Remapping batch_indices to [0,N]\n",
      "[2020-01-10 23:23:52,698] INFO - scvi.dataset.dataset | Remapping labels to [0,N]\n",
      "[2020-01-10 23:23:52,756] INFO - scvi.dataset.dataset | Computing the library size for the new data\n",
      "[2020-01-10 23:23:52,806] INFO - scvi.dataset.dataset | Downsampled from 4016 to 4016 cells\n"
     ]
    }
   ],
   "source": [
    "hemato_dataset = HematoDataset(save_path=os.path.join(save_path, 'HEMATO/')) "
   ]
  },
  {
   "cell_type": "code",
   "execution_count": null,
   "metadata": {
    "ExecuteTime": {
     "end_time": "2019-12-22T18:02:52.632342Z",
     "start_time": "2019-12-22T18:02:52.612542Z"
    }
   },
   "outputs": [],
   "source": [
    "hemato_dataset"
   ]
  },
  {
   "cell_type": "code",
   "execution_count": null,
   "metadata": {
    "ExecuteTime": {
     "end_time": "2019-12-22T17:49:59.694768Z",
     "start_time": "2019-12-22T17:49:59.682215Z"
    }
   },
   "outputs": [],
   "source": [
    "sorted(set(hemato_dataset.labels.flatten()))"
   ]
  },
  {
   "cell_type": "code",
   "execution_count": null,
   "metadata": {
    "ExecuteTime": {
     "end_time": "2019-12-22T18:16:14.273540Z",
     "start_time": "2019-12-22T18:11:32.855401Z"
    }
   },
   "outputs": [],
   "source": [
    "X_tsne_hemato = TSNE(n_components=2).fit_transform(hemato_dataset.X)"
   ]
  },
  {
   "cell_type": "code",
   "execution_count": null,
   "metadata": {
    "ExecuteTime": {
     "end_time": "2019-12-22T18:16:16.089319Z",
     "start_time": "2019-12-22T18:16:14.311901Z"
    }
   },
   "outputs": [],
   "source": [
    "colormap = dict(zip(range(101), sns.color_palette(\"rainbow\", 101)))\n",
    "tmp_df = pd.DataFrame(data={\"X\":list(X_tsne_hemato[:, 0]), \"Y\":list(X_tsne_hemato[:, 1]), \"Type\":[colormap[x] for x in hemato_dataset.labels.flatten()]})\n",
    "sns.scatterplot(x=\"X\", y=\"Y\", hue=\"Type\", data=tmp_df, sizes=(10, 200))\n",
    "plt.title(\"Hemato (4016 cells, 7397 genes, 101 types)\")\n",
    "plt.legend(list(range(101))).remove()\n",
    "plt.xlabel(\"tSNE 1\")\n",
    "plt.ylabel(\"tSNE 2\")\n",
    "plt.legend().remove()\n",
    "plt.axis(\"off\")\n",
    "plt.savefig(\"figure/scatter/Hemato.pdf\", bbox_inches='tight')"
   ]
  },
  {
   "cell_type": "code",
   "execution_count": 169,
   "metadata": {
    "ExecuteTime": {
     "end_time": "2020-01-10T15:40:13.502391Z",
     "start_time": "2020-01-10T15:40:11.069133Z"
    }
   },
   "outputs": [
    {
     "data": {
      "image/png": "[encoded data removed]",
      "text/plain": [
       "<Figure size 432x288 with 1 Axes>"
      ]
     },
     "metadata": {},
     "output_type": "display_data"
    }
   ],
   "source": [
    "sns.distplot(hemato_dataset.X.flatten(), kde=False, label=\"Hemato\", bins=np.logspace(0,np.log(10),10))\n",
    "plt.title(\"Hemato\", fontsize=20)\n",
    "plt.xlabel(\"Gene Expression\", fontsize=20)\n",
    "plt.ylabel(\"\")\n",
    "plt.xscale(\"log\")\n",
    "plt.xlim(0.9, 500)\n",
    "plt.savefig(\"figure/dist/hemato.pdf\", bbox_inches='tight')"
   ]
  },
  {
   "cell_type": "markdown",
   "metadata": {},
   "source": [
    "# Playground"
   ]
  },
  {
   "cell_type": "code",
   "execution_count": 182,
   "metadata": {
    "ExecuteTime": {
     "end_time": "2020-01-10T17:57:53.209064Z",
     "start_time": "2020-01-10T17:57:53.200316Z"
    }
   },
   "outputs": [
    {
     "data": {
      "text/plain": [
       "array([[ 1. ,  0. ,  0. ],\n",
       "       [ 0. ,  0. , -0.9]])"
      ]
     },
     "execution_count": 182,
     "metadata": {},
     "output_type": "execute_result"
    }
   ],
   "source": [
    "a = np.zeros(shape=[2, 3])\n",
    "a[0][0] = 1\n",
    "a[1][2] = -0.9\n",
    "a"
   ]
  },
  {
   "cell_type": "code",
   "execution_count": 174,
   "metadata": {
    "ExecuteTime": {
     "end_time": "2020-01-10T17:31:24.571435Z",
     "start_time": "2020-01-10T17:31:24.561198Z"
    }
   },
   "outputs": [
    {
     "data": {
      "text/plain": [
       "array([[ 0.  ,  0.  , -9.  ],\n",
       "       [-1.  ,  0.  , -8.19]])"
      ]
     },
     "execution_count": 174,
     "metadata": {},
     "output_type": "execute_result"
    }
   ],
   "source": [
    "a**2 - [1, 0, 9]"
   ]
  },
  {
   "cell_type": "code",
   "execution_count": 185,
   "metadata": {
    "ExecuteTime": {
     "end_time": "2020-01-10T17:58:34.273141Z",
     "start_time": "2020-01-10T17:58:34.264195Z"
    }
   },
   "outputs": [
    {
     "data": {
      "text/plain": [
       "array([[1., 1., 1.],\n",
       "       [1., 1., 1.]])"
      ]
     },
     "execution_count": 185,
     "metadata": {},
     "output_type": "execute_result"
    }
   ],
   "source": [
    "np.ones(a.shape)"
   ]
  },
  {
   "cell_type": "code",
   "execution_count": 189,
   "metadata": {
    "ExecuteTime": {
     "end_time": "2020-01-10T17:59:11.487307Z",
     "start_time": "2020-01-10T17:59:11.477659Z"
    }
   },
   "outputs": [
    {
     "data": {
      "text/plain": [
       "array([[1. , 0.1, 0.1],\n",
       "       [0.1, 0.1, 0.1]])"
      ]
     },
     "execution_count": 189,
     "metadata": {},
     "output_type": "execute_result"
    }
   ],
   "source": [
    "np.maximum(a, 0.1)"
   ]
  },
  {
   "cell_type": "code",
   "execution_count": null,
   "metadata": {
    "ExecuteTime": {
     "end_time": "2020-01-10T12:50:03.478775Z",
     "start_time": "2020-01-10T12:50:03.465821Z"
    }
   },
   "outputs": [],
   "source": [
    "random.random()"
   ]
  },
  {
   "cell_type": "code",
   "execution_count": 81,
   "metadata": {
    "ExecuteTime": {
     "end_time": "2020-01-10T14:42:44.578860Z",
     "start_time": "2020-01-10T14:42:44.573840Z"
    }
   },
   "outputs": [],
   "source": [
    "X = smfish_dataset.X[:100, :]"
   ]
  },
  {
   "cell_type": "code",
   "execution_count": 44,
   "metadata": {
    "ExecuteTime": {
     "end_time": "2020-01-10T14:03:38.810369Z",
     "start_time": "2020-01-10T14:03:38.801246Z"
    }
   },
   "outputs": [
    {
     "data": {
      "text/plain": [
       "array([[ 1.11111105,  0.88851538,  0.82230671, ..., -0.39073433,\n",
       "        -0.36608005,  0.34720089],\n",
       "       [ 0.88851538,  1.11111102,  0.99630246, ..., -0.1036303 ,\n",
       "        -0.17644731,  0.10365621],\n",
       "       [ 0.82230671,  0.99630246,  1.11111116, ..., -0.17766028,\n",
       "        -0.21540638,  0.03312449],\n",
       "       ...,\n",
       "       [-0.39073433, -0.1036303 , -0.17766028, ...,  1.11111114,\n",
       "        -0.13219085, -0.45653013],\n",
       "       [-0.36608005, -0.17644731, -0.21540638, ..., -0.13219085,\n",
       "         1.11111104,  0.1571232 ],\n",
       "       [ 0.34720089,  0.10365621,  0.03312449, ..., -0.45653013,\n",
       "         0.1571232 ,  1.11111117]])"
      ]
     },
     "execution_count": 44,
     "metadata": {},
     "output_type": "execute_result"
    }
   ],
   "source": [
    "np.cov(X, rowvar=False)"
   ]
  },
  {
   "cell_type": "code",
   "execution_count": 12,
   "metadata": {
    "ExecuteTime": {
     "end_time": "2020-01-10T13:59:06.209251Z",
     "start_time": "2020-01-10T13:59:06.189710Z"
    }
   },
   "outputs": [
    {
     "data": {
      "text/plain": [
       "0.3989422804014327"
      ]
     },
     "execution_count": 12,
     "metadata": {},
     "output_type": "execute_result"
    }
   ],
   "source": [
    "norm.pdf(0, loc=0, scale=1)"
   ]
  },
  {
   "cell_type": "code",
   "execution_count": null,
   "metadata": {},
   "outputs": [],
   "source": [
    "def sample_std(X):\n",
    "    nrow, ncol = X.shape\n",
    "    sample_X = np.zeros(shape=[100, ncol, ncol])\n",
    "    for time in range(100):\n",
    "        sample_X = [np.random.randint(nrow, size=int(0.5*nrow)), :]\n",
    "        \n",
    "    \n",
    "    \n",
    "sns.scatterplot()"
   ]
  },
  {
   "cell_type": "code",
   "execution_count": 47,
   "metadata": {
    "ExecuteTime": {
     "end_time": "2020-01-10T14:12:10.859299Z",
     "start_time": "2020-01-10T14:12:10.849815Z"
    }
   },
   "outputs": [
    {
     "data": {
      "text/plain": [
       "array([ 8.45530183e-01, -9.54495944e-01, -3.08004084e-02, -3.34721392e+00,\n",
       "        2.80246181e+00, -4.48528113e-01, -2.37006091e-01, -1.14303241e+00,\n",
       "        1.29903268e-01, -8.70495310e-01, -2.46056753e-01, -2.40909325e+00,\n",
       "        2.02678009e+00, -7.14875420e-01, -2.52635368e-01,  1.31313942e+00,\n",
       "       -1.39520566e+00,  1.04529424e-03, -9.57537700e-02, -1.17632271e-02,\n",
       "        1.14555304e+00,  2.31822525e+00, -1.18722134e+00,  4.14713646e-02,\n",
       "        1.29518212e+00,  5.35546107e-01,  6.35724171e-01,  1.78612809e+00,\n",
       "       -1.76175619e+00, -2.54585359e+00, -1.27417901e+00,  2.13133533e+00,\n",
       "        5.82745974e-01,  3.76940506e-01,  1.00764625e+00,  9.39963141e-01,\n",
       "        1.16990076e+00,  1.15462360e+00, -3.75695769e-01,  2.56462689e-01,\n",
       "       -1.80494893e+00,  1.06471676e+00, -1.39168340e+00, -1.10806202e+00,\n",
       "       -2.28958721e-01,  1.02737771e+00,  7.07626924e-01, -3.91441019e-01,\n",
       "        3.73832435e-01, -3.77451491e-01, -7.24838593e-01,  1.70851710e+00,\n",
       "        5.91787242e-01, -6.96986667e-01, -9.38403314e-01,  7.97692512e-01,\n",
       "       -1.47627539e+00, -1.00863389e+00, -6.49090991e-01,  8.21449754e-01,\n",
       "       -4.93760799e-01,  1.92011335e+00, -2.60294097e-01,  1.27422854e+00,\n",
       "        1.13411979e+00,  1.01267780e+00, -7.95276817e-01,  5.35363146e-01,\n",
       "        2.12638551e-01,  2.85070505e-01, -5.70907140e-01,  1.40757210e-01,\n",
       "       -6.14961125e-02, -1.83477810e+00,  6.42616564e-02, -1.89890104e+00,\n",
       "        9.16132529e-01, -1.55873911e+00,  1.14362574e+00, -1.23902671e-01,\n",
       "       -2.01122777e-01,  6.77228077e-01,  1.47352146e-01, -1.27912770e+00,\n",
       "       -1.58874935e+00, -1.45307179e+00,  8.40231459e-03,  6.35955575e-02,\n",
       "        1.86151277e+00,  4.27298405e-01,  7.42471845e-01, -1.54332936e+00,\n",
       "       -1.72783543e-02, -7.76169314e-01, -1.17652310e+00,  1.98637384e+00,\n",
       "       -3.61477810e-02,  7.15963350e-01, -8.14509597e-01, -7.89195684e-01])"
      ]
     },
     "execution_count": 47,
     "metadata": {},
     "output_type": "execute_result"
    }
   ],
   "source": [
    "norm.rvs(size=100, loc=0, scale=1)"
   ]
  },
  {
   "cell_type": "code",
   "execution_count": 54,
   "metadata": {
    "ExecuteTime": {
     "end_time": "2020-01-10T14:16:44.824717Z",
     "start_time": "2020-01-10T14:16:44.811586Z"
    }
   },
   "outputs": [
    {
     "data": {
      "text/plain": [
       "0.3886387373871096"
      ]
     },
     "execution_count": 54,
     "metadata": {},
     "output_type": "execute_result"
    }
   ],
   "source": [
    "sample[np.random.randint(num)]"
   ]
  },
  {
   "cell_type": "code",
   "execution_count": 56,
   "metadata": {
    "ExecuteTime": {
     "end_time": "2020-01-10T14:16:55.297071Z",
     "start_time": "2020-01-10T14:16:55.274880Z"
    }
   },
   "outputs": [
    {
     "ename": "TypeError",
     "evalue": "randint() takes at least 1 positional argument (0 given)",
     "output_type": "error",
     "traceback": [
      "\u001b[0;31m---------------------------------------------------------------------------\u001b[0m",
      "\u001b[0;31mTypeError\u001b[0m                                 Traceback (most recent call last)",
      "\u001b[0;32m<ipython-input-56-f50e04d98526>\u001b[0m in \u001b[0;36m<module>\u001b[0;34m\u001b[0m\n\u001b[0;32m----> 1\u001b[0;31m \u001b[0mnp\u001b[0m\u001b[0;34m.\u001b[0m\u001b[0mrandom\u001b[0m\u001b[0;34m.\u001b[0m\u001b[0mrandint\u001b[0m\u001b[0;34m(\u001b[0m\u001b[0msize\u001b[0m\u001b[0;34m=\u001b[0m\u001b[0mnum\u001b[0m\u001b[0;34m)\u001b[0m\u001b[0;34m\u001b[0m\u001b[0;34m\u001b[0m\u001b[0m\n\u001b[0m",
      "\u001b[0;32mmtrand.pyx\u001b[0m in \u001b[0;36mmtrand.RandomState.randint\u001b[0;34m()\u001b[0m\n",
      "\u001b[0;31mTypeError\u001b[0m: randint() takes at least 1 positional argument (0 given)"
     ]
    }
   ],
   "source": [
    "np.std(sample[np.random.randint(num)], ddof=1)"
   ]
  },
  {
   "cell_type": "code",
   "execution_count": 66,
   "metadata": {
    "ExecuteTime": {
     "end_time": "2020-01-10T14:24:23.373796Z",
     "start_time": "2020-01-10T14:24:19.117895Z"
    }
   },
   "outputs": [
    {
     "data": {
      "text/plain": [
       "<matplotlib.axes._subplots.AxesSubplot at 0x1a29863c88>"
      ]
     },
     "execution_count": 66,
     "metadata": {},
     "output_type": "execute_result"
    },
    {
     "data": {
      "image/png": "[encoded data removed]",
      "text/plain": [
       "<Figure size 432x288 with 1 Axes>"
      ]
     },
     "metadata": {},
     "output_type": "display_data"
    }
   ],
   "source": [
    "x = []\n",
    "y = []\n",
    "sample = norm.rvs(size=100, loc=0, scale=1)\n",
    "n_sample = len(sample)\n",
    "for num in range(10, 100):\n",
    "    for t in range(1000):\n",
    "        y.append(np.std(sample[np.random.randint(n_sample, size=num)], ddof=0))\n",
    "        x.append(num)\n",
    "sns.lineplot(x, y)"
   ]
  },
  {
   "cell_type": "code",
   "execution_count": 87,
   "metadata": {
    "ExecuteTime": {
     "end_time": "2020-01-10T14:43:14.034335Z",
     "start_time": "2020-01-10T14:43:13.584120Z"
    }
   },
   "outputs": [
    {
     "data": {
      "text/plain": [
       "<matplotlib.axes._subplots.AxesSubplot at 0x1a36ac4710>"
      ]
     },
     "execution_count": 87,
     "metadata": {},
     "output_type": "execute_result"
    },
    {
     "data": {
      "image/png": "[encoded data removed]",
      "text/plain": [
       "<Figure size 432x288 with 2 Axes>"
      ]
     },
     "metadata": {},
     "output_type": "display_data"
    }
   ],
   "source": [
    "sns.heatmap(np.corrcoef(np.log(X+1), rowvar=False))"
   ]
  },
  {
   "cell_type": "code",
   "execution_count": 83,
   "metadata": {
    "ExecuteTime": {
     "end_time": "2020-01-10T14:42:51.717433Z",
     "start_time": "2020-01-10T14:42:51.708895Z"
    }
   },
   "outputs": [
    {
     "data": {
      "text/plain": [
       "array([[3.583519 , 3.7376697, 0.       , ..., 0.       , 1.609438 ,\n",
       "        1.3862944],\n",
       "       [2.8332133, 3.295837 , 0.6931472, ..., 0.       , 3.0910425,\n",
       "        1.3862944],\n",
       "       [4.564348 , 3.912023 , 1.7917595, ..., 0.       , 1.609438 ,\n",
       "        0.6931472],\n",
       "       ...,\n",
       "       [3.7841897, 3.4965076, 0.       , ..., 1.0986123, 1.7917595,\n",
       "        1.7917595],\n",
       "       [3.7612002, 2.8332133, 1.0986123, ..., 0.       , 0.       ,\n",
       "        1.0986123],\n",
       "       [0.       , 2.7725887, 1.3862944, ..., 0.       , 1.0986123,\n",
       "        0.       ]], dtype=float32)"
      ]
     },
     "execution_count": 83,
     "metadata": {},
     "output_type": "execute_result"
    }
   ],
   "source": [
    "np.log(X+1)"
   ]
  },
  {
   "cell_type": "code",
   "execution_count": 84,
   "metadata": {
    "ExecuteTime": {
     "end_time": "2020-01-10T14:42:57.870736Z",
     "start_time": "2020-01-10T14:42:57.860244Z"
    }
   },
   "outputs": [
    {
     "data": {
      "text/plain": [
       "array([[35., 41.,  0., ...,  0.,  4.,  3.],\n",
       "       [16., 26.,  1., ...,  0., 21.,  3.],\n",
       "       [95., 49.,  5., ...,  0.,  4.,  1.],\n",
       "       ...,\n",
       "       [43., 32.,  0., ...,  2.,  5.,  5.],\n",
       "       [42., 16.,  2., ...,  0.,  0.,  2.],\n",
       "       [ 0., 15.,  3., ...,  0.,  2.,  0.]], dtype=float32)"
      ]
     },
     "execution_count": 84,
     "metadata": {},
     "output_type": "execute_result"
    }
   ],
   "source": [
    "X"
   ]
  },
  {
   "cell_type": "code",
   "execution_count": 90,
   "metadata": {
    "ExecuteTime": {
     "end_time": "2020-01-10T14:43:46.157214Z",
     "start_time": "2020-01-10T14:43:45.829891Z"
    }
   },
   "outputs": [
    {
     "data": {
      "text/plain": [
       "<matplotlib.axes._subplots.AxesSubplot at 0x1a36ccab70>"
      ]
     },
     "execution_count": 90,
     "metadata": {},
     "output_type": "execute_result"
    },
    {
     "data": {
      "image/png": "[encoded data removed]",
      "text/plain": [
       "<Figure size 432x288 with 1 Axes>"
      ]
     },
     "metadata": {},
     "output_type": "display_data"
    }
   ],
   "source": [
    "sns.distplot(np.log(X+1).flatten())"
   ]
  },
  {
   "cell_type": "code",
   "execution_count": 192,
   "metadata": {
    "ExecuteTime": {
     "end_time": "2020-01-10T20:48:49.908289Z",
     "start_time": "2020-01-10T20:48:49.897544Z"
    }
   },
   "outputs": [
    {
     "data": {
      "text/plain": [
       "(1, {'weight': 4})"
      ]
     },
     "execution_count": 192,
     "metadata": {},
     "output_type": "execute_result"
    }
   ],
   "source": [
    "g = nx.Graph()\n",
    "g.add_edge(1, 3, weight=9)\n",
    "g.add_edge(1, 3, weight=9)\n",
    "g.add_edge(1, 3, weight=4)\n",
    "g.add_edge(3, 1, weight=4)\n",
    "nx.number_of_edges(g), g.edges[1, 3]"
   ]
  },
  {
   "cell_type": "code",
   "execution_count": 193,
   "metadata": {
    "ExecuteTime": {
     "end_time": "2020-01-10T20:48:50.445654Z",
     "start_time": "2020-01-10T20:48:50.436902Z"
    }
   },
   "outputs": [
    {
     "data": {
      "text/plain": [
       "1"
      ]
     },
     "execution_count": 193,
     "metadata": {},
     "output_type": "execute_result"
    }
   ],
   "source": [
    "nx.number_of_edges(g)"
   ]
  },
  {
   "cell_type": "code",
   "execution_count": null,
   "metadata": {},
   "outputs": [],
   "source": []
  }
 ],
 "metadata": {
  "kernelspec": {
   "display_name": "Python 3",
   "language": "python",
   "name": "python3"
  },
  "language_info": {
   "codemirror_mode": {
    "name": "ipython",
    "version": 3
   },
   "file_extension": ".py",
   "mimetype": "text/x-python",
   "name": "python",
   "nbconvert_exporter": "python",
   "pygments_lexer": "ipython3",
   "version": "3.7.3"
  },
  "latex_envs": {
   "LaTeX_envs_menu_present": true,
   "autoclose": false,
   "autocomplete": true,
   "bibliofile": "biblio.bib",
   "cite_by": "apalike",
   "current_citInitial": 1,
   "eqLabelWithNumbers": true,
   "eqNumInitial": 1,
   "hotkeys": {
    "equation": "Ctrl-E",
    "itemize": "Ctrl-I"
   },
   "labels_anchors": false,
   "latex_user_defs": false,
   "report_style_numbering": false,
   "user_envs_cfg": false
  },
  "toc": {
   "base_numbering": 1,
   "nav_menu": {},
   "number_sections": true,
   "sideBar": true,
   "skip_h1_title": false,
   "title_cell": "Table of Contents",
   "title_sidebar": "Contents",
   "toc_cell": false,
   "toc_position": {},
   "toc_section_display": true,
   "toc_window_display": true
  },
  "varInspector": {
   "cols": {
    "lenName": 16,
    "lenType": 16,
    "lenVar": 40
   },
   "kernels_config": {
    "python": {
     "delete_cmd_postfix": "",
     "delete_cmd_prefix": "del ",
     "library": "var_list.py",
     "varRefreshCmd": "print(var_dic_list())"
    },
    "r": {
     "delete_cmd_postfix": ") ",
     "delete_cmd_prefix": "rm(",
     "library": "var_list.r",
     "varRefreshCmd": "cat(var_dic_list()) "
    }
   },
   "types_to_exclude": [
    "module",
    "function",
    "builtin_function_or_method",
    "instance",
    "_Feature"
   ],
   "window_display": false
  }
 },
 "nbformat": 4,
 "nbformat_minor": 2
}
